{
 "cells": [
  {
   "cell_type": "code",
   "execution_count": 3,
   "metadata": {},
   "outputs": [
    {
     "data": {
      "application/javascript": [
       "MathJax.Hub.Config({\n",
       "    TeX: { equationNumbers: { autoNumber: \"AMS\" } }\n",
       "});\n"
      ],
      "text/plain": [
       "<IPython.core.display.Javascript object>"
      ]
     },
     "metadata": {},
     "output_type": "display_data"
    }
   ],
   "source": [
    "%%javascript  # Allow equation numbers\n",
    "MathJax.Hub.Config({\n",
    "    TeX: { equationNumbers: { autoNumber: \"AMS\" } }\n",
    "});"
   ]
  },
  {
   "cell_type": "code",
   "execution_count": 4,
   "metadata": {},
   "outputs": [],
   "source": [
    "%matplotlib inline\n",
    "\n",
    "import numpy\n",
    "import matplotlib.pyplot as plt\n",
    "from astropy import units\n",
    "from astropy import constants\n",
    "from astropy.table import QTable  # to use tables with units\n",
    "from astropy.visualization import quantity_support\n",
    "from IPython.display import set_matplotlib_formats\n",
    "\n",
    "quantity_support()\n",
    "set_matplotlib_formats('svg')\n",
    "plt.rc('legend', frameon=False)\n",
    "plt.rc('figure', figsize=(10, 8)) # Larger figure sizes"
   ]
  },
  {
   "cell_type": "markdown",
   "metadata": {},
   "source": [
    "### Exercise 1: Anatomy of a sunspot\n",
    "\n",
    "There is only one exercise in this project. You should answer the question points not in order but in a coherent essay, having a narrative interspersed with code when necessary. This is a project of exploration. You will need to explore the data on your own, using the concepts, knowledge, and terminology you have acquired so far in AST4310. This will involve experimenting on how to best measure properties from spectra, how to visualise them, and discussing their physical meaning.\n",
    "\n",
    "<div style=\"background-color:#e6ffe6; padding:10px; border-style:\n",
    "solid;; border-color:#00e600; border-width:1px\">\n",
    "    \n",
    "Imagine you are one of the pioneers observing sunspots for the first time and know nothing about their properties. Your task is to analyse the SST dataset using the spectral diagnostics listed above. In your essay, you should report your findings to an audience of your peers who are similarly ignorant about sunspots, but knowledgeable about spectral analysis (so you don't need to explain what spectral lines are or what we can learn from them). You should answer the following questions:\n",
    "    \n",
    "- Using spectral velocities and brightness temperatures, what can you tell about the dynamics of the solar granulation? Which is cooler: the granules or the inter-granular lanes? How are they moving in relation to us?\n",
    "- In terms of spectral properties, what sets a sunspot apart from the neigbouring granulation?\n",
    "- Do pores share the same spectral properties of sunspots? Are the two connected?\n",
    "- Where in a sunspot do you find the largest velocities? And the strongest magnetic fields?\n",
    "- How much colder are sunspots than the solar granulation? Why are they dark?\n",
    "- How does the size of this sunspot compare with planet Earth?\n",
    "    \n",
    "</div>"
   ]
  },
  {
   "cell_type": "code",
   "execution_count": 6,
   "metadata": {},
   "outputs": [
    {
     "data": {
      "text/html": [
       "<i>QTable length=13</i>\n",
       "<table id=\"table140597369148752\" class=\"table-striped table-bordered table-condensed\">\n",
       "<thead><tr><th>intensity [961,974]</th><th>stokes_v [961,974]</th><th>wavelength</th></tr></thead>\n",
       "<thead><tr><th>W / (Hz m2 sr)</th><th>W / (Hz m2 sr)</th><th>nm</th></tr></thead>\n",
       "<thead><tr><th>float32</th><th>float32</th><th>float64</th></tr></thead>\n",
       "<tr><td>3.81328142395887e-08 .. 3.623370403715853e-08</td><td>-3.2918050230090756e-11 .. 1.8876449014992858e-10</td><td>617.268</td></tr>\n",
       "<tr><td>3.768163381323575e-08 .. 3.59759475543342e-08</td><td>-1.327763853725683e-11 .. -3.162058948014135e-10</td><td>617.276</td></tr>\n",
       "<tr><td>3.667330616963227e-08 .. 3.392468883589572e-08</td><td>-7.741495638979856e-11 .. -9.938728312564038e-11</td><td>617.284</td></tr>\n",
       "<tr><td>3.548280247400726e-08 .. 2.985078495498783e-08</td><td>-8.753564539887293e-11 .. -3.744499710300886e-10</td><td>617.288</td></tr>\n",
       "<tr><td>3.0823972707594294e-08 .. 2.4031239220789757e-08</td><td>-1.4693181393798938e-10 .. -5.6474065007749985e-11</td><td>617.292</td></tr>\n",
       "<tr><td>2.3560883022355483e-08 .. 2.1409466199884264e-08</td><td>-6.235768845730405e-12 .. -3.969632348527208e-12</td><td>617.296</td></tr>\n",
       "<tr><td>2.199313975381756e-08 .. 2.410669708297064e-08</td><td>-8.666208722862834e-11 .. -3.1688598967072323e-10</td><td>617.3</td></tr>\n",
       "<tr><td>2.8138451568793243e-08 .. 2.8830916320998767e-08</td><td>-1.517680286999834e-10 .. -3.0086358404624036e-10</td><td>617.304</td></tr>\n",
       "<tr><td>3.368801060332771e-08 .. 3.283696869971209e-08</td><td>-2.4581692584235704e-11 .. -4.5008774485211234e-10</td><td>617.308</td></tr>\n",
       "<tr><td>3.603156528697582e-08 .. 3.429122941156493e-08</td><td>-7.029465898256149e-11 .. -3.2154828799590973e-10</td><td>617.312</td></tr>\n",
       "<tr><td>3.674506743323036e-08 .. 3.534581693998007e-08</td><td>1.0240622586032977e-11 .. -3.6292496785605977e-10</td><td>617.316</td></tr>\n",
       "<tr><td>3.7092267035632176e-08 .. 3.529234504640044e-08</td><td>-5.001493143252933e-12 .. -2.1447499332083453e-10</td><td>617.324</td></tr>\n",
       "<tr><td>3.762441380672499e-08 .. 3.555012284550685e-08</td><td>-1.9281044816299442e-10 .. -4.9305861477000335e-11</td><td>617.332</td></tr>\n",
       "</table>"
      ],
      "text/plain": [
       "<QTable length=13>\n",
       "              intensity [961,974]                ... wavelength\n",
       "                 W / (Hz m2 sr)                  ...     nm    \n",
       "                    float32                      ...  float64  \n",
       "------------------------------------------------ ... ----------\n",
       "   3.81328142395887e-08 .. 3.623370403715853e-08 ...    617.268\n",
       "   3.768163381323575e-08 .. 3.59759475543342e-08 ...    617.276\n",
       "  3.667330616963227e-08 .. 3.392468883589572e-08 ...    617.284\n",
       "  3.548280247400726e-08 .. 2.985078495498783e-08 ...    617.288\n",
       "3.0823972707594294e-08 .. 2.4031239220789757e-08 ...    617.292\n",
       "2.3560883022355483e-08 .. 2.1409466199884264e-08 ...    617.296\n",
       "  2.199313975381756e-08 .. 2.410669708297064e-08 ...      617.3\n",
       "2.8138451568793243e-08 .. 2.8830916320998767e-08 ...    617.304\n",
       "  3.368801060332771e-08 .. 3.283696869971209e-08 ...    617.308\n",
       "  3.603156528697582e-08 .. 3.429122941156493e-08 ...    617.312\n",
       "  3.674506743323036e-08 .. 3.534581693998007e-08 ...    617.316\n",
       " 3.7092267035632176e-08 .. 3.529234504640044e-08 ...    617.324\n",
       "  3.762441380672499e-08 .. 3.555012284550685e-08 ...    617.332"
      ]
     },
     "execution_count": 6,
     "metadata": {},
     "output_type": "execute_result"
    }
   ],
   "source": [
    "data = QTable.read('SST_sunspot_617_2020.08.07.fits')\n",
    "data"
   ]
  },
  {
   "cell_type": "code",
   "execution_count": null,
   "metadata": {},
   "outputs": [],
   "source": []
  }
 ],
 "metadata": {
  "kernelspec": {
   "display_name": "Python 3",
   "language": "python",
   "name": "python3"
  },
  "language_info": {
   "codemirror_mode": {
    "name": "ipython",
    "version": 3
   },
   "file_extension": ".py",
   "mimetype": "text/x-python",
   "name": "python",
   "nbconvert_exporter": "python",
   "pygments_lexer": "ipython3",
   "version": "3.8.5"
  }
 },
 "nbformat": 4,
 "nbformat_minor": 4
}
